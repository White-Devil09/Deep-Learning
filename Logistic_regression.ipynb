{
 "cells": [
  {
   "attachments": {},
   "cell_type": "markdown",
   "metadata": {},
   "source": [
    "# Working with MNIST Dataset and logistic regression with PyTorch"
   ]
  },
  {
   "attachments": {},
   "cell_type": "markdown",
   "metadata": {},
   "source": [
    "importing libraries"
   ]
  },
  {
   "cell_type": "code",
   "execution_count": 1,
   "metadata": {},
   "outputs": [],
   "source": [
    "import torch\n",
    "from torchvision.datasets import MNIST\n",
    "import torchvision.transforms as transforms"
   ]
  },
  {
   "cell_type": "code",
   "execution_count": 2,
   "metadata": {},
   "outputs": [],
   "source": [
    "# Downloading dataset\n",
    "train_dataset = MNIST(root='data/MNIST/train', train = True,download=True)\n",
    "test_dataset = MNIST(root='data/MNIST/test', train = False,download=True)"
   ]
  },
  {
   "cell_type": "code",
   "execution_count": 3,
   "metadata": {},
   "outputs": [
    {
     "data": {
      "text/plain": [
       "(60000, 10000)"
      ]
     },
     "execution_count": 3,
     "metadata": {},
     "output_type": "execute_result"
    }
   ],
   "source": [
    "len(train_dataset),len(test_dataset)"
   ]
  },
  {
   "attachments": {},
   "cell_type": "markdown",
   "metadata": {},
   "source": [
    "The dataset has 60,000 images that we'll use to train the model. There is also additional test set of 10,000 images used for evaluation models and reporting metrics in papers and reports."
   ]
  },
  {
   "attachments": {},
   "cell_type": "markdown",
   "metadata": {},
   "source": [
    "Sample dataset"
   ]
  },
  {
   "cell_type": "code",
   "execution_count": 4,
   "metadata": {},
   "outputs": [
    {
     "data": {
      "text/plain": [
       "(<PIL.Image.Image image mode=L size=28x28 at 0x7F3A7499DBA0>, 5)"
      ]
     },
     "execution_count": 4,
     "metadata": {},
     "output_type": "execute_result"
    }
   ],
   "source": [
    "train_dataset[0]"
   ]
  },
  {
   "attachments": {},
   "cell_type": "markdown",
   "metadata": {},
   "source": [
    "It's a pair, consisting of a 28x28  px image and a label. The image is an object of class `PIL.Image.Image`, which is a part of the Python imaging library `Pillow`. We can view the image within notebook using `matplotlib`, teh de-facto plotting and graphing library for data science in Python"
   ]
  },
  {
   "cell_type": "code",
   "execution_count": 5,
   "metadata": {},
   "outputs": [],
   "source": [
    "import matplotlib.pyplot as plt\n",
    "%matplotlib inline"
   ]
  },
  {
   "attachments": {},
   "cell_type": "markdown",
   "metadata": {},
   "source": [
    "The statement `%matplotlib inline` indicates to Jupyter that we want to pot the graphs within the notebook. Without this line, Jupyter will show the image in a popup. Statement starting with `%` are called magic commands and are used to configure the behaviour of Jupyter itself."
   ]
  },
  {
   "attachments": {},
   "cell_type": "markdown",
   "metadata": {},
   "source": [
    "Displaying of images from dataset"
   ]
  },
  {
   "cell_type": "code",
   "execution_count": 6,
   "metadata": {},
   "outputs": [
    {
     "name": "stdout",
     "output_type": "stream",
     "text": [
      "Label : 5\n"
     ]
    },
    {
     "data": {
      "image/png": "[encoded data removed]",
      "text/plain": [
       "<Figure size 640x480 with 1 Axes>"
      ]
     },
     "metadata": {},
     "output_type": "display_data"
    }
   ],
   "source": [
    "image, label = train_dataset[0]\n",
    "plt.imshow(image,cmap='gray')\n",
    "print(f'Label : {label}')"
   ]
  },
  {
   "attachments": {},
   "cell_type": "markdown",
   "metadata": {},
   "source": [
    "PyTorch don't know how to deal with images so we need to transfrom images to tensors"
   ]
  },
  {
   "cell_type": "code",
   "execution_count": 7,
   "metadata": {},
   "outputs": [],
   "source": [
    "# loading transformed dataset\n",
    "train_dataset = MNIST(root='data/MNIST/train', train = True,transform=transforms.ToTensor())\n",
    "test_dataset = MNIST(root='data/MNIST/test', train = False,transform=transforms.ToTensor())"
   ]
  },
  {
   "cell_type": "code",
   "execution_count": 8,
   "metadata": {},
   "outputs": [
    {
     "name": "stdout",
     "output_type": "stream",
     "text": [
      "torch.Size([1, 28, 28]) 5\n"
     ]
    }
   ],
   "source": [
    "img_tensor, label = train_dataset[0]\n",
    "print(img_tensor.shape,label)"
   ]
  },
  {
   "cell_type": "code",
   "execution_count": 9,
   "metadata": {},
   "outputs": [
    {
     "data": {
      "text/plain": [
       "<matplotlib.image.AxesImage at 0x7f39b89f07f0>"
      ]
     },
     "execution_count": 9,
     "metadata": {},
     "output_type": "execute_result"
    },
    {
     "data": {
      "image/png": "[encoded data removed]",
      "text/plain": [
       "<Figure size 640x480 with 1 Axes>"
      ]
     },
     "metadata": {},
     "output_type": "display_data"
    }
   ],
   "source": [
    "plt.imshow(img_tensor[0],cmap='gray')"
   ]
  },
  {
   "attachments": {},
   "cell_type": "markdown",
   "metadata": {},
   "source": [
    "## Training and validation Datasets\n",
    "\n",
    "While building real-world machine learining models,it is quite common to split the dataset into three parts:\n",
    "\n",
    "1. $\\textbf{Training set -}$ used to train the model i.e., compute the loss and adjust the model's weights using gradient descent\n",
    "2. $\\textbf{validation set - }$ used to evaluate the model during training, adjust hyperparameters (learning rate, etc) and pick the best version of the model.\n",
    "3. $\\textbf{Test set -}$ used to compare different models or approaches and report the model's final accuracy"
   ]
  },
  {
   "cell_type": "code",
   "execution_count": 10,
   "metadata": {},
   "outputs": [
    {
     "data": {
      "text/plain": [
       "(50000, 10000)"
      ]
     },
     "execution_count": 10,
     "metadata": {},
     "output_type": "execute_result"
    }
   ],
   "source": [
    "from torch.utils.data import random_split,DataLoader\n",
    "\n",
    "train_ds , val_ds = random_split(train_dataset,[50000,10000])\n",
    "len(train_ds),len(val_ds)"
   ]
  },
  {
   "attachments": {},
   "cell_type": "markdown",
   "metadata": {},
   "source": [
    "creating batches of training and validating dataset"
   ]
  },
  {
   "cell_type": "code",
   "execution_count": 11,
   "metadata": {},
   "outputs": [],
   "source": [
    "batch_size = 128\n",
    "\n",
    "train_loader = DataLoader(train_ds,batch_size,shuffle=True)\n",
    "val_loader = DataLoader(val_ds,batch_size)"
   ]
  },
  {
   "attachments": {},
   "cell_type": "markdown",
   "metadata": {},
   "source": [
    "Now that we have prepared our data loaders, we can define our model. \n",
    "\n",
    "1. A logistic regression model is alomost identical to linear regression model. It contains weights and bias matrices, and the output is obtained using simple matrix operations (`pred = x @ w.t() + b`).\n",
    "\n",
    "2. As we did with linear regression, we can use `nn.Linear` t create the model instead of manually creating and initializing the matrices.\n",
    "\n",
    "3. Since `nn.Linear` expects each training example to be a vector, each `1x28x28` image tensor is flattened into a vector of size 784 `(28*28)` before being passed into the model.\n",
    "\n",
    "4. The output for each image is a vecot of size 10, with each element signifying the probability of a particular target label (i.e., 0 to 9). The predicted label for an image is simply the one with the highest probability"
   ]
  },
  {
   "cell_type": "code",
   "execution_count": 12,
   "metadata": {},
   "outputs": [],
   "source": [
    "import torch.nn as nn\n",
    "\n",
    "input_size = 28*28\n",
    "num_classes = 10\n",
    "\n",
    "# Logistis regression model\n",
    "model = nn.Linear(input_size, num_classes)"
   ]
  },
  {
   "cell_type": "code",
   "execution_count": 13,
   "metadata": {},
   "outputs": [
    {
     "name": "stdout",
     "output_type": "stream",
     "text": [
      "torch.Size([10, 784])\n",
      "Parameter containing:\n",
      "tensor([[-0.0220, -0.0340,  0.0036,  ..., -0.0063,  0.0326, -0.0022],\n",
      "        [-0.0003, -0.0248,  0.0012,  ..., -0.0232, -0.0111,  0.0170],\n",
      "        [-0.0189,  0.0191,  0.0101,  ...,  0.0038, -0.0311,  0.0041],\n",
      "        ...,\n",
      "        [-0.0151,  0.0070,  0.0248,  ..., -0.0241,  0.0121,  0.0188],\n",
      "        [ 0.0251,  0.0095,  0.0353,  ...,  0.0137, -0.0112,  0.0024],\n",
      "        [ 0.0300, -0.0125,  0.0160,  ...,  0.0123,  0.0214, -0.0199]],\n",
      "       requires_grad=True)\n"
     ]
    }
   ],
   "source": [
    "print(model.weight.shape)\n",
    "print(model.weight)"
   ]
  },
  {
   "cell_type": "code",
   "execution_count": 14,
   "metadata": {},
   "outputs": [
    {
     "name": "stdout",
     "output_type": "stream",
     "text": [
      "torch.Size([10])\n",
      "Parameter containing:\n",
      "tensor([ 0.0195,  0.0355, -0.0246,  0.0241,  0.0171,  0.0280, -0.0279,  0.0003,\n",
      "        -0.0076,  0.0204], requires_grad=True)\n"
     ]
    }
   ],
   "source": [
    "print(model.bias.shape)\n",
    "print(model.bias)"
   ]
  },
  {
   "cell_type": "code",
   "execution_count": 15,
   "metadata": {},
   "outputs": [
    {
     "name": "stdout",
     "output_type": "stream",
     "text": [
      "tensor([7, 2, 4, 7, 8, 7, 6, 2, 0, 9, 6, 1, 7, 5, 5, 3, 7, 2, 4, 4, 0, 6, 1, 3,\n",
      "        6, 3, 3, 1, 9, 4, 7, 6, 4, 5, 0, 9, 9, 6, 2, 2, 7, 0, 5, 6, 6, 5, 0, 5,\n",
      "        5, 2, 1, 3, 2, 5, 7, 7, 5, 3, 2, 5, 2, 4, 3, 9, 3, 7, 8, 9, 5, 8, 6, 6,\n",
      "        0, 5, 9, 9, 1, 3, 5, 7, 1, 3, 1, 1, 2, 7, 1, 5, 6, 0, 2, 5, 6, 3, 6, 4,\n",
      "        6, 0, 7, 0, 3, 3, 6, 7, 2, 4, 0, 8, 7, 3, 1, 4, 3, 4, 7, 7, 4, 1, 1, 7,\n",
      "        6, 3, 8, 0, 0, 1, 6, 8])\n",
      "torch.Size([128, 1, 28, 28])\n",
      "tensor([[ 0.1231,  0.1180,  0.1208,  ...,  0.2051,  0.0211,  0.0720],\n",
      "        [ 0.2345,  0.0718, -0.0340,  ...,  0.0838, -0.2854,  0.2395],\n",
      "        [-0.1181,  0.0826, -0.3208,  ..., -0.0630,  0.0104, -0.0629],\n",
      "        ...,\n",
      "        [ 0.3216, -0.0188, -0.0917,  ..., -0.1535, -0.2361, -0.0318],\n",
      "        [ 0.3928,  0.1817, -0.2691,  ...,  0.1516, -0.0788,  0.1395],\n",
      "        [-0.0125, -0.0327, -0.2344,  ..., -0.0251, -0.1758,  0.0832]],\n",
      "       grad_fn=<AddmmBackward0>)\n"
     ]
    }
   ],
   "source": [
    "for images, labels in train_loader:\n",
    "    print(labels)\n",
    "    print(images.shape)\n",
    "\n",
    "    # reshaping images to (128,784) flattening\n",
    "    images = images.reshape(128,784)\n",
    "   \n",
    "    outputs = model(images)\n",
    "    print(outputs)\n",
    "    break"
   ]
  },
  {
   "attachments": {},
   "cell_type": "markdown",
   "metadata": {},
   "source": [
    "Creating a class for MNIST model"
   ]
  },
  {
   "cell_type": "code",
   "execution_count": 16,
   "metadata": {},
   "outputs": [],
   "source": [
    "class MnistModel(nn.Module):\n",
    "    def __init__(self):\n",
    "        super().__init__()\n",
    "        self.linear = nn.Linear(input_size,num_classes)\n",
    "\n",
    "    def forward(self,xb):\n",
    "        xb = xb.reshape(-1,784)\n",
    "        out = self.linear(xb)\n",
    "        return out\n",
    "    \n",
    "model = MnistModel()"
   ]
  },
  {
   "cell_type": "code",
   "execution_count": 17,
   "metadata": {},
   "outputs": [
    {
     "name": "stdout",
     "output_type": "stream",
     "text": [
      "Linear(in_features=784, out_features=10, bias=True)\n",
      "torch.Size([10, 784]) torch.Size([10])\n"
     ]
    },
    {
     "data": {
      "text/plain": [
       "[Parameter containing:\n",
       " tensor([[ 0.0155, -0.0007, -0.0286,  ...,  0.0208,  0.0068, -0.0182],\n",
       "         [-0.0103,  0.0261, -0.0160,  ..., -0.0296,  0.0318,  0.0342],\n",
       "         [-0.0202,  0.0085, -0.0238,  ...,  0.0347,  0.0352,  0.0269],\n",
       "         ...,\n",
       "         [-0.0106,  0.0096, -0.0150,  ...,  0.0081, -0.0299,  0.0082],\n",
       "         [ 0.0181,  0.0210, -0.0053,  ..., -0.0284, -0.0258, -0.0236],\n",
       "         [-0.0107, -0.0221,  0.0190,  ...,  0.0168, -0.0287,  0.0228]],\n",
       "        requires_grad=True),\n",
       " Parameter containing:\n",
       " tensor([ 0.0152,  0.0165,  0.0084,  0.0071, -0.0144,  0.0037, -0.0016, -0.0024,\n",
       "          0.0354,  0.0138], requires_grad=True)]"
      ]
     },
     "execution_count": 17,
     "metadata": {},
     "output_type": "execute_result"
    }
   ],
   "source": [
    "print(model.linear)\n",
    "print(model.linear.weight.shape, model.linear.bias.shape)\n",
    "list(model.parameters())"
   ]
  },
  {
   "attachments": {},
   "cell_type": "markdown",
   "metadata": {},
   "source": [
    "We can use our new custom model in the same way as before."
   ]
  },
  {
   "cell_type": "code",
   "execution_count": 18,
   "metadata": {},
   "outputs": [
    {
     "name": "stdout",
     "output_type": "stream",
     "text": [
      "outputs.shape : torch.Size([128, 10])\n",
      "smaple.shape : tensor([[ 0.1818,  0.1902, -0.3642, -0.2652,  0.2362, -0.0795,  0.0546, -0.0358,\n",
      "         -0.0711,  0.1854],\n",
      "        [ 0.1062,  0.0802, -0.1361, -0.1793,  0.0415,  0.0048, -0.2672, -0.0080,\n",
      "          0.0297,  0.0565]])\n"
     ]
    }
   ],
   "source": [
    "for images, labels in train_loader:\n",
    "    outputs = model(images)\n",
    "    break\n",
    "\n",
    "print(f'outputs.shape : {outputs.shape}')\n",
    "print(f'smaple.shape : {outputs[:2].data}')"
   ]
  },
  {
   "attachments": {},
   "cell_type": "markdown",
   "metadata": {},
   "source": [
    "The  softmax function in the `torch.nn.functional` package and requires us to sspecify a  dimension along which the fucntion should be applied.\n"
   ]
  },
  {
   "cell_type": "code",
   "execution_count": 19,
   "metadata": {},
   "outputs": [],
   "source": [
    "import torch.nn.functional as F"
   ]
  },
  {
   "cell_type": "code",
   "execution_count": 20,
   "metadata": {},
   "outputs": [
    {
     "name": "stdout",
     "output_type": "stream",
     "text": [
      "Sample probabilities :\n",
      " tensor([[0.1174, 0.1184, 0.0680, 0.0751, 0.1240, 0.0904, 0.1034, 0.0944, 0.0912,\n",
      "         0.1178],\n",
      "        [0.1135, 0.1106, 0.0891, 0.0853, 0.1064, 0.1026, 0.0781, 0.1013, 0.1051,\n",
      "         0.1080]])\n",
      "Sum : 0.9999999403953552\n"
     ]
    }
   ],
   "source": [
    "# Apply softmax for each output row\n",
    "probs = F.softmax(outputs,dim=1)\n",
    "\n",
    "# Look at sample probabilities\n",
    "print(f'Sample probabilities :\\n {probs[:2].data}')\n",
    "\n",
    "# Add up the probabilities of an output row\n",
    "print(f'Sum : {torch.sum(probs[0]).item()}')"
   ]
  },
  {
   "attachments": {},
   "cell_type": "markdown",
   "metadata": {},
   "source": [
    "Finally we can determine the predicted lavel for each image by simply choosing the index of the element with the highest probability in each output row. We can do this using `torch.max`, which returns each row's largest element and the corresponding index."
   ]
  },
  {
   "cell_type": "code",
   "execution_count": 21,
   "metadata": {},
   "outputs": [
    {
     "name": "stdout",
     "output_type": "stream",
     "text": [
      "tensor([4, 0, 6, 0, 4, 4, 4, 4, 8, 7, 1, 4, 4, 7, 4, 4, 0, 8, 4, 2, 7, 4, 4, 7,\n",
      "        4, 4, 0, 4, 0, 0, 4, 4, 4, 1, 5, 4, 4, 4, 4, 3, 4, 4, 4, 4, 4, 4, 4, 4,\n",
      "        4, 4, 4, 0, 7, 4, 0, 0, 4, 4, 6, 4, 4, 4, 4, 0, 4, 4, 4, 0, 6, 4, 7, 0,\n",
      "        0, 0, 9, 4, 9, 0, 4, 7, 7, 7, 0, 4, 4, 4, 0, 4, 4, 8, 4, 7, 6, 4, 0, 7,\n",
      "        0, 4, 6, 4, 9, 0, 7, 6, 4, 4, 4, 7, 4, 4, 7, 7, 7, 4, 4, 4, 4, 4, 4, 1,\n",
      "        5, 0, 0, 8, 4, 4, 4, 4])\n",
      "tensor([0.1240, 0.1135, 0.1320, 0.1255, 0.1208, 0.1362, 0.1577, 0.1718, 0.1242,\n",
      "        0.1274, 0.1200, 0.1603, 0.1617, 0.1219, 0.1433, 0.1401, 0.1279, 0.1354,\n",
      "        0.1406, 0.1238, 0.1163, 0.1597, 0.1200, 0.1275, 0.1409, 0.1723, 0.1599,\n",
      "        0.1701, 0.1459, 0.1298, 0.1371, 0.1277, 0.1375, 0.1159, 0.1305, 0.1238,\n",
      "        0.1385, 0.1385, 0.1316, 0.1164, 0.1176, 0.1151, 0.1258, 0.1612, 0.1582,\n",
      "        0.1155, 0.1463, 0.1409, 0.1896, 0.1405, 0.1481, 0.1553, 0.1440, 0.1361,\n",
      "        0.1376, 0.1218, 0.1460, 0.1260, 0.1141, 0.1390, 0.1308, 0.1415, 0.1416,\n",
      "        0.1231, 0.1223, 0.1347, 0.1259, 0.1258, 0.1205, 0.1220, 0.1165, 0.1177,\n",
      "        0.1276, 0.1323, 0.1118, 0.1780, 0.1158, 0.1275, 0.1370, 0.1328, 0.1179,\n",
      "        0.1173, 0.1177, 0.1315, 0.1303, 0.1551, 0.1555, 0.1287, 0.1514, 0.1186,\n",
      "        0.1363, 0.1181, 0.1179, 0.1862, 0.1248, 0.1267, 0.1193, 0.1594, 0.1286,\n",
      "        0.1319, 0.1130, 0.1279, 0.1266, 0.1377, 0.1275, 0.1643, 0.1627, 0.1270,\n",
      "        0.1702, 0.1444, 0.1162, 0.1139, 0.1385, 0.1392, 0.1605, 0.1396, 0.1181,\n",
      "        0.1559, 0.1242, 0.1314, 0.1168, 0.1408, 0.1304, 0.1429, 0.1314, 0.1187,\n",
      "        0.1540, 0.1601], grad_fn=<MaxBackward0>)\n"
     ]
    }
   ],
   "source": [
    "max_probs, preds = torch.max(probs, dim =1)\n",
    "print(preds)\n",
    "print(max_probs)"
   ]
  },
  {
   "cell_type": "code",
   "execution_count": 22,
   "metadata": {},
   "outputs": [
    {
     "data": {
      "text/plain": [
       "tensor([1, 6, 1, 3, 9, 5, 4, 4, 0, 6, 1, 8, 2, 2, 9, 2, 3, 4, 5, 4, 7, 5, 7, 9,\n",
       "        0, 0, 2, 8, 2, 7, 4, 4, 9, 1, 2, 1, 3, 8, 4, 0, 6, 1, 4, 4, 3, 8, 0, 2,\n",
       "        3, 7, 5, 3, 7, 7, 9, 2, 6, 2, 5, 0, 9, 0, 4, 2, 0, 6, 4, 1, 7, 1, 4, 5,\n",
       "        5, 2, 6, 3, 1, 1, 3, 9, 7, 6, 0, 0, 1, 4, 2, 9, 3, 7, 8, 3, 8, 0, 2, 0,\n",
       "        7, 5, 2, 0, 1, 2, 6, 0, 0, 1, 3, 6, 0, 3, 6, 6, 9, 5, 8, 0, 1, 3, 2, 7,\n",
       "        7, 2, 6, 7, 2, 9, 8, 0])"
      ]
     },
     "execution_count": 22,
     "metadata": {},
     "output_type": "execute_result"
    }
   ],
   "source": [
    "labels"
   ]
  },
  {
   "attachments": {},
   "cell_type": "markdown",
   "metadata": {},
   "source": [
    "Most of the predicted labels are different from the actual labels. That's because we have started with randomly initialized weights and biases. We need to train the model, i.e., adjust the weights using gradient descent to make better predictions."
   ]
  },
  {
   "attachments": {},
   "cell_type": "markdown",
   "metadata": {},
   "source": [
    "## Evaluation metrics and Loss function"
   ]
  },
  {
   "cell_type": "code",
   "execution_count": 23,
   "metadata": {},
   "outputs": [],
   "source": [
    "def accuracy(outputs, labels):\n",
    "    _, preds = torch.max(outputs, dim=1)\n",
    "    \n",
    "    return torch.tensor(torch.sum(preds == labels).item()/len(preds))"
   ]
  },
  {
   "cell_type": "code",
   "execution_count": 24,
   "metadata": {},
   "outputs": [
    {
     "data": {
      "text/plain": [
       "tensor(0.1250)"
      ]
     },
     "execution_count": 24,
     "metadata": {},
     "output_type": "execute_result"
    }
   ],
   "source": [
    "accuracy(outputs,labels)"
   ]
  },
  {
   "attachments": {},
   "cell_type": "markdown",
   "metadata": {},
   "source": [
    "Defining loss function"
   ]
  },
  {
   "attachments": {},
   "cell_type": "markdown",
   "metadata": {},
   "source": [
    "As you might expect, PyTorch provides an efficient and tensor-friendly implementation of cross-entropy as part of the `torch.nn.functional` package. Moreover,it  also performs softmax internally, so we can directly pass in the model's outputs without converting them into probabilities."
   ]
  },
  {
   "cell_type": "code",
   "execution_count": 25,
   "metadata": {},
   "outputs": [],
   "source": [
    "loss_fn = F.cross_entropy"
   ]
  },
  {
   "cell_type": "code",
   "execution_count": 26,
   "metadata": {},
   "outputs": [
    {
     "name": "stdout",
     "output_type": "stream",
     "text": [
      "tensor(2.3395, grad_fn=<NllLossBackward0>)\n"
     ]
    }
   ],
   "source": [
    "# Loss for current batch of data\n",
    "loss = loss_fn(outputs, labels)\n",
    "print(loss)"
   ]
  },
  {
   "attachments": {},
   "cell_type": "markdown",
   "metadata": {},
   "source": [
    "## Training model"
   ]
  },
  {
   "attachments": {},
   "cell_type": "markdown",
   "metadata": {},
   "source": [
    "Now that we have defined data loaders. model, loss function and optimizer, we are ready to train the model. The training process is identical to linear regression. with the addition of a 'validation phase' to evaluate the model in each epoch. "
   ]
  },
  {
   "attachments": {},
   "cell_type": "markdown",
   "metadata": {},
   "source": [
    "### Psuedo code"
   ]
  },
  {
   "attachments": {},
   "cell_type": "markdown",
   "metadata": {},
   "source": [
    "```\n",
    "for epoch in range(num_epoch):\n",
    "    # Training phase\n",
    "    for batch in train_loader:\n",
    "        # Generate predictions\n",
    "        # Calculate loss\n",
    "        # Compute gradients\n",
    "        # Update weights\n",
    "        # Reset gradients\n",
    "\n",
    "    # Validation phase\n",
    "    for batch in val_loader:\n",
    "        # Generate predictions\n",
    "        # Calculate loss\n",
    "        # Calculate metrics (accuracy etc.)\n",
    "    # calculate average validation loss and metrics\n",
    "\n",
    "    # Log epoch, loss and metrics for inspection\n",
    "\n",
    "```"
   ]
  },
  {
   "cell_type": "code",
   "execution_count": 27,
   "metadata": {},
   "outputs": [],
   "source": [
    "class MnistModel(nn.Module):\n",
    "    def __init__(self) :\n",
    "        super().__init__()\n",
    "        self.linear = nn.Linear(input_size, num_classes)\n",
    "\n",
    "    def forward(self, xb):\n",
    "        xb = xb.reshape(-1,784)\n",
    "        out = self.linear(xb)\n",
    "\n",
    "        return out\n",
    "    \n",
    "    def training_step(self, batch):\n",
    "        images, labels = batch\n",
    "        out = self(images)                 # Generate predictions\n",
    "        loss = F.cross_entropy(out,labels) # calculate loss\n",
    "\n",
    "        return loss\n",
    "    \n",
    "    def validation_step(self, batch):\n",
    "        images, labels = batch\n",
    "        out = self(images)                  # Generate predictions\n",
    "        loss = F.cross_entropy(out,labels)  # calculate loss\n",
    "        acc = accuracy(out, labels)         # calculate accuracy\n",
    "\n",
    "        return {'val_loss' : loss, 'val_acc' : acc}\n",
    "    \n",
    "    def validation_epoch_end(self, outputs):\n",
    "\n",
    "        batch_losses = []\n",
    "        batch_accs = []\n",
    "\n",
    "        for x in outputs:\n",
    "            batch_losses.append(x['val_loss'])\n",
    "            batch_accs.append(x['val_acc'])\n",
    "            \n",
    "        epoch_loss = torch.stack(batch_losses).mean()   # combine losses\n",
    "        epoch_acc = torch.stack(batch_accs).mean()      # combine accuracies\n",
    "\n",
    "        return {'val_loss' : epoch_loss.item(),'val_acc' : epoch_acc.item()}\n",
    "    \n",
    "    def epoch_end(self, epoch, result):\n",
    "        print(f\"Epoch [{epoch+1}], val_loss : {result['val_loss']}, val_acc : {result['val_acc']}\")\n",
    "\n",
    "\n",
    "model = MnistModel()"
   ]
  },
  {
   "cell_type": "code",
   "execution_count": 28,
   "metadata": {},
   "outputs": [],
   "source": [
    "def evaluate(model, val_loader):\n",
    "    outputs = (model.validation_step(batch) for batch in val_loader)\n",
    "    \n",
    "    return model.validation_epoch_end(outputs)"
   ]
  },
  {
   "cell_type": "code",
   "execution_count": 29,
   "metadata": {},
   "outputs": [],
   "source": [
    "def fit(num_epochs, lr, model, train_loader, val_loader, opt_func = torch.optim.SGD):\n",
    "\n",
    "    optimizer = opt_func(model.parameters(), lr)\n",
    "    history = [] # for recording epoch-wise results\n",
    "\n",
    "    for epoch in range(num_epochs):\n",
    "\n",
    "        # Training phase\n",
    "        for batch in train_loader:\n",
    "            loss = model.training_step(batch)\n",
    "            loss.backward()\n",
    "            optimizer.step()\n",
    "            optimizer.zero_grad()\n",
    "\n",
    "        # Validation phase\n",
    "        result = evaluate(model, val_loader)\n",
    "        model.epoch_end(epoch,result)\n",
    "        history.append(result)\n",
    "    \n",
    "    return history"
   ]
  },
  {
   "attachments": {},
   "cell_type": "markdown",
   "metadata": {},
   "source": [
    "Before we train the model, let's see how the model perform on the validation set with the initial set of randomly initialized weights and biases"
   ]
  },
  {
   "cell_type": "code",
   "execution_count": 30,
   "metadata": {},
   "outputs": [
    {
     "data": {
      "text/plain": [
       "{'val_loss': 2.319350481033325, 'val_acc': 0.09187104552984238}"
      ]
     },
     "execution_count": 30,
     "metadata": {},
     "output_type": "execute_result"
    }
   ],
   "source": [
    "result0 = evaluate(model, val_loader)\n",
    "result0"
   ]
  },
  {
   "cell_type": "code",
   "execution_count": 31,
   "metadata": {},
   "outputs": [
    {
     "name": "stdout",
     "output_type": "stream",
     "text": [
      "Epoch [1], val_loss : 0.8950769901275635, val_acc : 0.8268393874168396\n",
      "Epoch [2], val_loss : 0.6720605492591858, val_acc : 0.8508702516555786\n",
      "Epoch [3], val_loss : 0.5802515745162964, val_acc : 0.8614517450332642\n",
      "Epoch [4], val_loss : 0.5282977223396301, val_acc : 0.8695608973503113\n",
      "Epoch [5], val_loss : 0.4942837953567505, val_acc : 0.8751977682113647\n",
      "Epoch [6], val_loss : 0.47005969285964966, val_acc : 0.8802412748336792\n",
      "Epoch [7], val_loss : 0.45164355635643005, val_acc : 0.8828125\n",
      "Epoch [8], val_loss : 0.43670910596847534, val_acc : 0.8853837251663208\n",
      "Epoch [9], val_loss : 0.4248170852661133, val_acc : 0.8864715099334717\n",
      "Epoch [10], val_loss : 0.4147820770740509, val_acc : 0.8885482549667358\n"
     ]
    }
   ],
   "source": [
    "history1 = fit(10, 1e-2, model , train_loader, val_loader)"
   ]
  },
  {
   "cell_type": "code",
   "execution_count": 32,
   "metadata": {},
   "outputs": [
    {
     "data": {
      "image/png": "[encoded data removed]",
      "text/plain": [
       "<Figure size 640x480 with 1 Axes>"
      ]
     },
     "metadata": {},
     "output_type": "display_data"
    }
   ],
   "source": [
    "history = [result0] + history1\n",
    "accuracies = [result['val_acc'] for result in history]\n",
    "\n",
    "plt.plot(accuracies,\"-o\")\n",
    "plt.xlabel(\"epoch\")\n",
    "plt.ylabel(\"accuracy\")\n",
    "plt.title(\"Accuracy vs. No. of epochs\");"
   ]
  },
  {
   "attachments": {},
   "cell_type": "markdown",
   "metadata": {},
   "source": [
    "## Testing with individual images"
   ]
  },
  {
   "attachments": {},
   "cell_type": "markdown",
   "metadata": {},
   "source": [
    "While we have been tracking the overall accuracy of a model so far, it's also good idea to look at model's result on some sample images. Let's test out our model with some images from the predefined test dataset of 10,000 images."
   ]
  },
  {
   "cell_type": "code",
   "execution_count": 33,
   "metadata": {},
   "outputs": [
    {
     "name": "stdout",
     "output_type": "stream",
     "text": [
      "Shape : torch.Size([1, 28, 28])\n",
      "Label : 7\n"
     ]
    },
    {
     "data": {
      "image/png": "[encoded data removed]",
      "text/plain": [
       "<Figure size 640x480 with 1 Axes>"
      ]
     },
     "metadata": {},
     "output_type": "display_data"
    }
   ],
   "source": [
    "img, label = test_dataset[0]\n",
    "plt.imshow(img[0],cmap='gray')\n",
    "print(f'Shape : {img.shape}')\n",
    "print(f'Label : {label}')"
   ]
  },
  {
   "attachments": {},
   "cell_type": "markdown",
   "metadata": {},
   "source": [
    "Let's define a helper function `predict_image`, which returns the predicted lavel for a single image tensor"
   ]
  },
  {
   "cell_type": "code",
   "execution_count": 34,
   "metadata": {},
   "outputs": [],
   "source": [
    "def predict_image(img, model):\n",
    "    xb = img.unsqueeze(0)\n",
    "    yb = model(xb)\n",
    "    _, preds = torch.max(yb,dim=1)\n",
    "\n",
    "    return preds[0].item()"
   ]
  },
  {
   "attachments": {},
   "cell_type": "markdown",
   "metadata": {},
   "source": [
    "`img.unsqueeze` simply adds another dimension at the beginnign of the 1x28x28 tensor, making it a 1x1x28x28 tensor, which the model views as a batch containing a single image."
   ]
  },
  {
   "attachments": {},
   "cell_type": "markdown",
   "metadata": {},
   "source": [
    "Let's try it out with a few images"
   ]
  },
  {
   "cell_type": "code",
   "execution_count": 35,
   "metadata": {},
   "outputs": [
    {
     "name": "stdout",
     "output_type": "stream",
     "text": [
      "Label : 7, predicted : 7\n"
     ]
    },
    {
     "data": {
      "image/png": "[encoded data removed]",
      "text/plain": [
       "<Figure size 640x480 with 1 Axes>"
      ]
     },
     "metadata": {},
     "output_type": "display_data"
    }
   ],
   "source": [
    "img, label = test_dataset[0]\n",
    "plt.imshow(img[0],cmap='gray')\n",
    "print(f'Label : {label}, predicted : {predict_image(img,model)}')"
   ]
  },
  {
   "cell_type": "code",
   "execution_count": 36,
   "metadata": {},
   "outputs": [
    {
     "name": "stdout",
     "output_type": "stream",
     "text": [
      "Label : 0, predicted : 0\n"
     ]
    },
    {
     "data": {
      "image/png": "[encoded data removed]",
      "text/plain": [
       "<Figure size 640x480 with 1 Axes>"
      ]
     },
     "metadata": {},
     "output_type": "display_data"
    }
   ],
   "source": [
    "img, label = test_dataset[10]\n",
    "plt.imshow(img[0],cmap='gray')\n",
    "print(f'Label : {label}, predicted : {predict_image(img,model)}')"
   ]
  },
  {
   "cell_type": "code",
   "execution_count": 37,
   "metadata": {},
   "outputs": [
    {
     "name": "stdout",
     "output_type": "stream",
     "text": [
      "Label : 9, predicted : 4\n"
     ]
    },
    {
     "data": {
      "image/png": "[encoded data removed]",
      "text/plain": [
       "<Figure size 640x480 with 1 Axes>"
      ]
     },
     "metadata": {},
     "output_type": "display_data"
    }
   ],
   "source": [
    "img, label = test_dataset[193]\n",
    "plt.imshow(img[0],cmap='gray')\n",
    "print(f'Label : {label}, predicted : {predict_image(img,model)}')"
   ]
  },
  {
   "cell_type": "code",
   "execution_count": 38,
   "metadata": {},
   "outputs": [
    {
     "name": "stdout",
     "output_type": "stream",
     "text": [
      "Label : 2, predicted : 8\n"
     ]
    },
    {
     "data": {
      "image/png": "[encoded data removed]",
      "text/plain": [
       "<Figure size 640x480 with 1 Axes>"
      ]
     },
     "metadata": {},
     "output_type": "display_data"
    }
   ],
   "source": [
    "img, label = test_dataset[1839]\n",
    "plt.imshow(img[0],cmap='gray')\n",
    "print(f'Label : {label}, predicted : {predict_image(img,model)}')"
   ]
  },
  {
   "attachments": {},
   "cell_type": "markdown",
   "metadata": {},
   "source": [
    "Identifying where our model performs poorly can help us improve the model, by collecting more training data, increasing/decreasing the complexity of the model, and changing the hyperparameters.\n",
    "\n",
    "As a final step. Let's also look at the overall loss and accuracy of the model on the test set\n"
   ]
  },
  {
   "cell_type": "code",
   "execution_count": 39,
   "metadata": {},
   "outputs": [
    {
     "data": {
      "text/plain": [
       "{'val_loss': 0.3910861909389496, 'val_acc': 0.89599609375}"
      ]
     },
     "execution_count": 39,
     "metadata": {},
     "output_type": "execute_result"
    }
   ],
   "source": [
    "test_loader = DataLoader(test_dataset, batch_size=256)\n",
    "result = evaluate(model, test_loader)\n",
    "result"
   ]
  },
  {
   "attachments": {},
   "cell_type": "markdown",
   "metadata": {},
   "source": [
    "## Saving and loading the model"
   ]
  },
  {
   "attachments": {},
   "cell_type": "markdown",
   "metadata": {},
   "source": [
    "Since we've trained our model for a long time and achieved a reasonable accuracy, it would be a good idea to save the weights and bias matrices to disk, so that we can reuse the model later to avoid retraining from scartch."
   ]
  },
  {
   "cell_type": "code",
   "execution_count": 40,
   "metadata": {},
   "outputs": [],
   "source": [
    "torch.save(model.state_dict(),'models/mnist-logistic.pth')"
   ]
  },
  {
   "attachments": {},
   "cell_type": "markdown",
   "metadata": {},
   "source": [
    "The `.state_dict()` method returns an  `OrderedDict` containing all the weights and bias matrices mapped to the right attributes of the model"
   ]
  },
  {
   "cell_type": "code",
   "execution_count": 41,
   "metadata": {},
   "outputs": [
    {
     "data": {
      "text/plain": [
       "OrderedDict([('linear.weight',\n",
       "              tensor([[-0.0118, -0.0172, -0.0014,  ...,  0.0185,  0.0304, -0.0231],\n",
       "                      [ 0.0145,  0.0355,  0.0185,  ...,  0.0125,  0.0130,  0.0077],\n",
       "                      [-0.0297, -0.0225,  0.0319,  ..., -0.0053,  0.0129,  0.0273],\n",
       "                      ...,\n",
       "                      [-0.0296,  0.0180,  0.0113,  ...,  0.0096, -0.0260, -0.0065],\n",
       "                      [ 0.0259,  0.0091,  0.0159,  ..., -0.0205,  0.0305, -0.0074],\n",
       "                      [-0.0325, -0.0336, -0.0098,  ...,  0.0161, -0.0020,  0.0085]])),\n",
       "             ('linear.bias',\n",
       "              tensor([-0.1043,  0.1641, -0.0096, -0.0773,  0.0704,  0.1829, -0.0483,  0.1119,\n",
       "                      -0.2989, -0.0671]))])"
      ]
     },
     "execution_count": 41,
     "metadata": {},
     "output_type": "execute_result"
    }
   ],
   "source": [
    "model.state_dict()"
   ]
  },
  {
   "attachments": {},
   "cell_type": "markdown",
   "metadata": {},
   "source": [
    "To load the model weights, we can instante a new obhect of the class `MnistModel`, and use the `.load_state_dict` method"
   ]
  },
  {
   "cell_type": "code",
   "execution_count": 42,
   "metadata": {},
   "outputs": [
    {
     "data": {
      "text/plain": [
       "OrderedDict([('linear.weight',\n",
       "              tensor([[-0.0118, -0.0172, -0.0014,  ...,  0.0185,  0.0304, -0.0231],\n",
       "                      [ 0.0145,  0.0355,  0.0185,  ...,  0.0125,  0.0130,  0.0077],\n",
       "                      [-0.0297, -0.0225,  0.0319,  ..., -0.0053,  0.0129,  0.0273],\n",
       "                      ...,\n",
       "                      [-0.0296,  0.0180,  0.0113,  ...,  0.0096, -0.0260, -0.0065],\n",
       "                      [ 0.0259,  0.0091,  0.0159,  ..., -0.0205,  0.0305, -0.0074],\n",
       "                      [-0.0325, -0.0336, -0.0098,  ...,  0.0161, -0.0020,  0.0085]])),\n",
       "             ('linear.bias',\n",
       "              tensor([-0.1043,  0.1641, -0.0096, -0.0773,  0.0704,  0.1829, -0.0483,  0.1119,\n",
       "                      -0.2989, -0.0671]))])"
      ]
     },
     "execution_count": 42,
     "metadata": {},
     "output_type": "execute_result"
    }
   ],
   "source": [
    "model2 = MnistModel()\n",
    "model2.load_state_dict(torch.load('models/mnist-logistic.pth'))\n",
    "model2.state_dict()"
   ]
  },
  {
   "cell_type": "code",
   "execution_count": 43,
   "metadata": {},
   "outputs": [
    {
     "data": {
      "text/plain": [
       "{'val_loss': 0.39984238147735596, 'val_acc': 0.89453125}"
      ]
     },
     "execution_count": 43,
     "metadata": {},
     "output_type": "execute_result"
    }
   ],
   "source": [
    "test_loader = DataLoader(test_dataset, batch_size=512)\n",
    "result = evaluate(model2, test_loader)\n",
    "result"
   ]
  }
 ],
 "metadata": {
  "kernelspec": {
   "display_name": "Python 3",
   "language": "python",
   "name": "python3"
  },
  "language_info": {
   "codemirror_mode": {
    "name": "ipython",
    "version": 3
   },
   "file_extension": ".py",
   "mimetype": "text/x-python",
   "name": "python",
   "nbconvert_exporter": "python",
   "pygments_lexer": "ipython3",
   "version": "3.10.6"
  },
  "orig_nbformat": 4
 },
 "nbformat": 4,
 "nbformat_minor": 2
}
